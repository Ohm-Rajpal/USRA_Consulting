{
 "cells": [
  {
   "cell_type": "markdown",
   "source": [
    "### Imports"
   ],
   "metadata": {
    "collapsed": false
   },
   "id": "a7530ce58b41f3f5"
  },
  {
   "cell_type": "code",
   "execution_count": 15,
   "id": "initial_id",
   "metadata": {
    "collapsed": true,
    "ExecuteTime": {
     "end_time": "2024-03-01T03:50:46.418043Z",
     "start_time": "2024-03-01T03:50:46.407527800Z"
    }
   },
   "outputs": [],
   "source": [
    "import pandas as pd\n",
    "import tensorflow as tf\n",
    "import numpy as np\n",
    "from datetime import datetime, timedelta\n",
    "import random"
   ]
  },
  {
   "cell_type": "markdown",
   "source": [
    "### Data collection"
   ],
   "metadata": {
    "collapsed": false
   },
   "id": "f318721d415e7170"
  },
  {
   "cell_type": "markdown",
   "source": [
    "#### Assume our data is stored as a CSV and we have time stamps"
   ],
   "metadata": {
    "collapsed": false
   },
   "id": "560e6a69317a35c1"
  },
  {
   "cell_type": "code",
   "outputs": [
    {
     "data": {
      "text/plain": "       Temperature       Pressure     Humidity  BatteryCharge   NetCurrent  \\\ncount  1000.000000    1000.000000  1000.000000    1000.000000  1000.000000   \nmean     24.962677   99882.328134    49.985628      90.070350     0.014147   \nstd       4.802120    5819.288828    17.385288       5.849052     0.511308   \nmin       5.387999   90026.672790    20.079192      80.006195    -1.541281   \n25%      21.741250   94868.658747    34.542572      85.037346    -0.336607   \n50%      25.058604   99666.338090    49.779611      90.115871     0.032131   \n75%      28.093162  105094.896478    65.729726      95.195068     0.361070   \nmax      39.570546  109966.063115    79.988309      99.998497     1.714455   \n\n           Tension  BatteryTemp        PM1.0        PM2.5        PM4.0  \\\ncount  1000.000000  1000.000000  1000.000000  1000.000000  1000.000000   \nmean      3.855940    25.050224    25.427672    50.716258    79.028238   \nstd       0.199038     5.113342    14.334648    29.722857    43.480751   \nmin       3.500870     6.823999     0.126088     0.249545     0.007219   \n25%       3.688469    21.753414    13.550406    24.395091    42.352885   \n50%       3.860045    25.092940    25.110206    52.743225    80.783542   \n75%       4.021928    28.418395    38.264855    76.189691   116.357282   \nmax       4.199260    40.702115    49.867227    99.990098   149.948446   \n\n            PM10.0  PM1.0_1/cm3  PM2.5_1/cm3  PM4.0_1/cm3  PM10.0_1/cm3  \\\ncount  1000.000000  1000.000000  1000.000000  1000.000000   1000.000000   \nmean    101.788141   496.718150   988.343967  1502.525450   1945.945363   \nstd      57.210298   282.332887   571.531953   853.297579   1166.019610   \nmin       0.330498     1.091541     2.894441     0.330695      0.500555   \n25%      51.432168   254.695790   507.920594   785.098926    914.646413   \n50%     101.621944   499.595442   986.584236  1497.046386   1996.390837   \n75%     151.727790   727.981179  1462.277557  2218.986747   2915.654854   \nmax     199.366952   999.450523  1996.260232  2998.795147   3998.035183   \n\n         PMTypSize          CO2    StationID   MsgCounter  PacktCheckSum  \ncount  1000.000000  1000.000000  1000.000000  1000.000000    1000.000000  \nmean      4.832179   399.363332     5.068000    50.671000     129.125000  \nstd       2.809658    56.444571     2.562409    28.609111      73.814009  \nmin       0.035664   300.068874     1.000000     1.000000       0.000000  \n25%       2.362809   353.334163     3.000000    26.000000      67.000000  \n50%       4.740923   401.552605     5.000000    51.000000     131.000000  \n75%       7.284351   444.136268     7.000000    75.000000     193.000000  \nmax       9.996956   499.588083     9.000000    99.000000     254.000000  ",
      "text/html": "<div>\n<style scoped>\n    .dataframe tbody tr th:only-of-type {\n        vertical-align: middle;\n    }\n\n    .dataframe tbody tr th {\n        vertical-align: top;\n    }\n\n    .dataframe thead th {\n        text-align: right;\n    }\n</style>\n<table border=\"1\" class=\"dataframe\">\n  <thead>\n    <tr style=\"text-align: right;\">\n      <th></th>\n      <th>Temperature</th>\n      <th>Pressure</th>\n      <th>Humidity</th>\n      <th>BatteryCharge</th>\n      <th>NetCurrent</th>\n      <th>Tension</th>\n      <th>BatteryTemp</th>\n      <th>PM1.0</th>\n      <th>PM2.5</th>\n      <th>PM4.0</th>\n      <th>PM10.0</th>\n      <th>PM1.0_1/cm3</th>\n      <th>PM2.5_1/cm3</th>\n      <th>PM4.0_1/cm3</th>\n      <th>PM10.0_1/cm3</th>\n      <th>PMTypSize</th>\n      <th>CO2</th>\n      <th>StationID</th>\n      <th>MsgCounter</th>\n      <th>PacktCheckSum</th>\n    </tr>\n  </thead>\n  <tbody>\n    <tr>\n      <th>count</th>\n      <td>1000.000000</td>\n      <td>1000.000000</td>\n      <td>1000.000000</td>\n      <td>1000.000000</td>\n      <td>1000.000000</td>\n      <td>1000.000000</td>\n      <td>1000.000000</td>\n      <td>1000.000000</td>\n      <td>1000.000000</td>\n      <td>1000.000000</td>\n      <td>1000.000000</td>\n      <td>1000.000000</td>\n      <td>1000.000000</td>\n      <td>1000.000000</td>\n      <td>1000.000000</td>\n      <td>1000.000000</td>\n      <td>1000.000000</td>\n      <td>1000.000000</td>\n      <td>1000.000000</td>\n      <td>1000.000000</td>\n    </tr>\n    <tr>\n      <th>mean</th>\n      <td>24.962677</td>\n      <td>99882.328134</td>\n      <td>49.985628</td>\n      <td>90.070350</td>\n      <td>0.014147</td>\n      <td>3.855940</td>\n      <td>25.050224</td>\n      <td>25.427672</td>\n      <td>50.716258</td>\n      <td>79.028238</td>\n      <td>101.788141</td>\n      <td>496.718150</td>\n      <td>988.343967</td>\n      <td>1502.525450</td>\n      <td>1945.945363</td>\n      <td>4.832179</td>\n      <td>399.363332</td>\n      <td>5.068000</td>\n      <td>50.671000</td>\n      <td>129.125000</td>\n    </tr>\n    <tr>\n      <th>std</th>\n      <td>4.802120</td>\n      <td>5819.288828</td>\n      <td>17.385288</td>\n      <td>5.849052</td>\n      <td>0.511308</td>\n      <td>0.199038</td>\n      <td>5.113342</td>\n      <td>14.334648</td>\n      <td>29.722857</td>\n      <td>43.480751</td>\n      <td>57.210298</td>\n      <td>282.332887</td>\n      <td>571.531953</td>\n      <td>853.297579</td>\n      <td>1166.019610</td>\n      <td>2.809658</td>\n      <td>56.444571</td>\n      <td>2.562409</td>\n      <td>28.609111</td>\n      <td>73.814009</td>\n    </tr>\n    <tr>\n      <th>min</th>\n      <td>5.387999</td>\n      <td>90026.672790</td>\n      <td>20.079192</td>\n      <td>80.006195</td>\n      <td>-1.541281</td>\n      <td>3.500870</td>\n      <td>6.823999</td>\n      <td>0.126088</td>\n      <td>0.249545</td>\n      <td>0.007219</td>\n      <td>0.330498</td>\n      <td>1.091541</td>\n      <td>2.894441</td>\n      <td>0.330695</td>\n      <td>0.500555</td>\n      <td>0.035664</td>\n      <td>300.068874</td>\n      <td>1.000000</td>\n      <td>1.000000</td>\n      <td>0.000000</td>\n    </tr>\n    <tr>\n      <th>25%</th>\n      <td>21.741250</td>\n      <td>94868.658747</td>\n      <td>34.542572</td>\n      <td>85.037346</td>\n      <td>-0.336607</td>\n      <td>3.688469</td>\n      <td>21.753414</td>\n      <td>13.550406</td>\n      <td>24.395091</td>\n      <td>42.352885</td>\n      <td>51.432168</td>\n      <td>254.695790</td>\n      <td>507.920594</td>\n      <td>785.098926</td>\n      <td>914.646413</td>\n      <td>2.362809</td>\n      <td>353.334163</td>\n      <td>3.000000</td>\n      <td>26.000000</td>\n      <td>67.000000</td>\n    </tr>\n    <tr>\n      <th>50%</th>\n      <td>25.058604</td>\n      <td>99666.338090</td>\n      <td>49.779611</td>\n      <td>90.115871</td>\n      <td>0.032131</td>\n      <td>3.860045</td>\n      <td>25.092940</td>\n      <td>25.110206</td>\n      <td>52.743225</td>\n      <td>80.783542</td>\n      <td>101.621944</td>\n      <td>499.595442</td>\n      <td>986.584236</td>\n      <td>1497.046386</td>\n      <td>1996.390837</td>\n      <td>4.740923</td>\n      <td>401.552605</td>\n      <td>5.000000</td>\n      <td>51.000000</td>\n      <td>131.000000</td>\n    </tr>\n    <tr>\n      <th>75%</th>\n      <td>28.093162</td>\n      <td>105094.896478</td>\n      <td>65.729726</td>\n      <td>95.195068</td>\n      <td>0.361070</td>\n      <td>4.021928</td>\n      <td>28.418395</td>\n      <td>38.264855</td>\n      <td>76.189691</td>\n      <td>116.357282</td>\n      <td>151.727790</td>\n      <td>727.981179</td>\n      <td>1462.277557</td>\n      <td>2218.986747</td>\n      <td>2915.654854</td>\n      <td>7.284351</td>\n      <td>444.136268</td>\n      <td>7.000000</td>\n      <td>75.000000</td>\n      <td>193.000000</td>\n    </tr>\n    <tr>\n      <th>max</th>\n      <td>39.570546</td>\n      <td>109966.063115</td>\n      <td>79.988309</td>\n      <td>99.998497</td>\n      <td>1.714455</td>\n      <td>4.199260</td>\n      <td>40.702115</td>\n      <td>49.867227</td>\n      <td>99.990098</td>\n      <td>149.948446</td>\n      <td>199.366952</td>\n      <td>999.450523</td>\n      <td>1996.260232</td>\n      <td>2998.795147</td>\n      <td>3998.035183</td>\n      <td>9.996956</td>\n      <td>499.588083</td>\n      <td>9.000000</td>\n      <td>99.000000</td>\n      <td>254.000000</td>\n    </tr>\n  </tbody>\n</table>\n</div>"
     },
     "execution_count": 16,
     "metadata": {},
     "output_type": "execute_result"
    }
   ],
   "source": [
    "file = 'sensor_data.csv'\n",
    "df = pd.read_csv(file)\n",
    "df.describe()"
   ],
   "metadata": {
    "collapsed": false,
    "ExecuteTime": {
     "end_time": "2024-03-01T03:50:47.692100700Z",
     "start_time": "2024-03-01T03:50:47.610518200Z"
    }
   },
   "id": "73e1e63441533a80",
   "execution_count": 16
  },
  {
   "cell_type": "markdown",
   "source": [
    "### Cleaning Data"
   ],
   "metadata": {
    "collapsed": false
   },
   "id": "97d2488c16b5314"
  },
  {
   "cell_type": "markdown",
   "source": [
    "#### For now I am going to assume the data is in perfect shape. Once we actually get real data I am going to modify this"
   ],
   "metadata": {
    "collapsed": false
   },
   "id": "663dd2ade8c84cfd"
  },
  {
   "cell_type": "markdown",
   "source": [
    "### Exploratory Data Analysis"
   ],
   "metadata": {
    "collapsed": false
   },
   "id": "4967a2161d139211"
  },
  {
   "cell_type": "code",
   "outputs": [],
   "source": [],
   "metadata": {
    "collapsed": false
   },
   "id": "e5ab9ae14fabe4e",
   "execution_count": null
  },
  {
   "cell_type": "code",
   "outputs": [],
   "source": [],
   "metadata": {
    "collapsed": false
   },
   "id": "ba83be667996b337"
  },
  {
   "cell_type": "code",
   "outputs": [],
   "source": [
    "# # Define features and data types\n",
    "# features = {\n",
    "#     \"timestamp\": pd.Timestamp,  # Qualitative (date and time)\n",
    "#     # Gas sensors (V)\n",
    "#     \"GasSensor_0\": np.float32,\n",
    "#     \"GasSensor_1\": np.float32,\n",
    "#     \"GasSensor_2\": np.float32,\n",
    "#     \"GasSensor_3\": np.float32,\n",
    "#     \"GasSensor_4\": np.float32,\n",
    "#     \"GasSensor_5\": np.float32,\n",
    "#     \"GasSensor_6\": np.float32,\n",
    "#     \"GasSensor_7\": np.float32,\n",
    "#     \"GasSensor_8\": np.float32,\n",
    "#     \"GasSensor_9\": np.float32,\n",
    "#     \"GasSensor_10\": np.float32,\n",
    "#     \"GasSensor_11\": np.float32,\n",
    "# \n",
    "#     \"Temperature\": np.float32,  # Quantitative (°C)\n",
    "#     \"Pressure\": np.float32,    # Quantitative (Pa)\n",
    "#     \"Humidity\": np.uint8,      # Quantitative (%RH)\n",
    "#     \"Battery_Charge\": np.uint8,  # Quantitative (%)\n",
    "#     \"Net_Current\": np.float32,  # Quantitative (A)\n",
    "#     \"Tension\": np.float32,     # Quantitative (V)\n",
    "#     \"Battery_Temp\": np.float32, # Quantitative (°C)\n",
    "# \n",
    "#     # Particulate matter (µg/m³)\n",
    "#     \"PM1.0\": np.float32,\n",
    "#     \"PM2.5\": np.float32,\n",
    "#     \"PM4.0\": np.float32,\n",
    "#     \"PM10.0\": np.float32,\n",
    "# \n",
    "#     # Particulate matter (1/cm³)\n",
    "#     \"PM1.0_cm3\": np.float32,\n",
    "#     \"PM2.5_cm3\": np.float32,\n",
    "#     \"PM4.0_cm3\": np.float32,\n",
    "#     \"PM10.0_cm3\": np.float32,\n",
    "# \n",
    "#     \"PM_Typ_Size\": np.float32,  # Quantitative (µm)\n",
    "#     \"CO2\": np.float32,           # Quantitative (ppm)\n",
    "# }\n",
    "\n",
    "# Generate random data\n",
    "num_datapoints = 100 \n",
    "\n",
    "# temp = pd.Timestamp(year=2017, month=1, day=1, hour=12, second=0)\n",
    "\n",
    "# add more columns later\n",
    "fake_df = pd.DataFrame(columns=['Temperature', 'Pressure', 'Humidity', 'Battery_Charge', 'Net_Current', 'Tension'])\n",
    "\n",
    "start_time = datetime(2024, 2, 20, 10, 0, 0)  # Adjust start date and time\n",
    "\n",
    "# the idea is to create random data right now. Tighten up the range so it's only dealing with a particular kind of \n",
    "# weather for now. Some combinations are thermodynamically impossible if you arbitrarily choose property values\n",
    "for i in range(num_datapoints):\n",
    "    print('test')\n",
    "    # fake_df['Temperature'] = random.uniform(0, 100) # degrees celsius\n",
    "    # fake_df['Pressure'] = random.uniform(99284.51, 103421) # potential pressure values in earth\n",
    "    # fake_df['Humidity'] = \n",
    "    # fake_df['Battery_Charge'] =\n",
    "    # fake_df['Net_Current'] =\n",
    "    # fake_df['Tension'] = "
   ],
   "metadata": {
    "collapsed": false
   },
   "id": "e4b28ad3a3f16415",
   "execution_count": null
  },
  {
   "cell_type": "markdown",
   "source": [
    "#### Visualizing data"
   ],
   "metadata": {
    "collapsed": false
   },
   "id": "d9a146f1bd68980d"
  },
  {
   "cell_type": "markdown",
   "source": [
    "### Visualizing data"
   ],
   "metadata": {
    "collapsed": false
   },
   "id": "46f23d1cb6b6433e"
  },
  {
   "cell_type": "markdown",
   "source": [],
   "metadata": {
    "collapsed": false
   },
   "id": "ae94ef10c61a688"
  }
 ],
 "metadata": {
  "kernelspec": {
   "display_name": "Python 3",
   "language": "python",
   "name": "python3"
  },
  "language_info": {
   "codemirror_mode": {
    "name": "ipython",
    "version": 2
   },
   "file_extension": ".py",
   "mimetype": "text/x-python",
   "name": "python",
   "nbconvert_exporter": "python",
   "pygments_lexer": "ipython2",
   "version": "2.7.6"
  }
 },
 "nbformat": 4,
 "nbformat_minor": 5
}
