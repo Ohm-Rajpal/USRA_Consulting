{
 "cells": [
  {
   "cell_type": "markdown",
   "source": [
    "### Imports"
   ],
   "metadata": {
    "collapsed": false
   },
   "id": "a7530ce58b41f3f5"
  },
  {
   "cell_type": "code",
   "execution_count": 8,
   "id": "initial_id",
   "metadata": {
    "collapsed": true,
    "ExecuteTime": {
     "end_time": "2024-02-25T09:03:33.821368900Z",
     "start_time": "2024-02-25T09:03:33.790789600Z"
    }
   },
   "outputs": [],
   "source": [
    "import pandas as pd\n",
    "import numpy as np\n",
    "from datetime import datetime, timedelta\n",
    "import random"
   ]
  },
  {
   "cell_type": "markdown",
   "source": [
    "### Processing data"
   ],
   "metadata": {
    "collapsed": false
   },
   "id": "f318721d415e7170"
  },
  {
   "cell_type": "markdown",
   "source": [
    "#### Assume our data is stored as a CSV and we have time stamps"
   ],
   "metadata": {
    "collapsed": false
   },
   "id": "3aa46ac69f437d58"
  },
  {
   "cell_type": "markdown",
   "source": [
    "#### For now I am generating fake data to test analysis on"
   ],
   "metadata": {
    "collapsed": false
   },
   "id": "2bc61a38666603a4"
  },
  {
   "cell_type": "code",
   "outputs": [
    {
     "name": "stdout",
     "output_type": "stream",
     "text": [
      "test\n",
      "test\n",
      "test\n",
      "test\n",
      "test\n",
      "test\n",
      "test\n",
      "test\n",
      "test\n",
      "test\n",
      "test\n",
      "test\n",
      "test\n",
      "test\n",
      "test\n",
      "test\n",
      "test\n",
      "test\n",
      "test\n",
      "test\n",
      "test\n",
      "test\n",
      "test\n",
      "test\n",
      "test\n",
      "test\n",
      "test\n",
      "test\n",
      "test\n",
      "test\n",
      "test\n",
      "test\n",
      "test\n",
      "test\n",
      "test\n",
      "test\n",
      "test\n",
      "test\n",
      "test\n",
      "test\n",
      "test\n",
      "test\n",
      "test\n",
      "test\n",
      "test\n",
      "test\n",
      "test\n",
      "test\n",
      "test\n",
      "test\n",
      "test\n",
      "test\n",
      "test\n",
      "test\n",
      "test\n",
      "test\n",
      "test\n",
      "test\n",
      "test\n",
      "test\n",
      "test\n",
      "test\n",
      "test\n",
      "test\n",
      "test\n",
      "test\n",
      "test\n",
      "test\n",
      "test\n",
      "test\n",
      "test\n",
      "test\n",
      "test\n",
      "test\n",
      "test\n",
      "test\n",
      "test\n",
      "test\n",
      "test\n",
      "test\n",
      "test\n",
      "test\n",
      "test\n",
      "test\n",
      "test\n",
      "test\n",
      "test\n",
      "test\n",
      "test\n",
      "test\n",
      "test\n",
      "test\n",
      "test\n",
      "test\n",
      "test\n",
      "test\n",
      "test\n",
      "test\n",
      "test\n",
      "test\n"
     ]
    }
   ],
   "source": [
    "# # Define features and data types\n",
    "# features = {\n",
    "#     \"timestamp\": pd.Timestamp,  # Qualitative (date and time)\n",
    "#     # Gas sensors (V)\n",
    "#     \"GasSensor_0\": np.float32,\n",
    "#     \"GasSensor_1\": np.float32,\n",
    "#     \"GasSensor_2\": np.float32,\n",
    "#     \"GasSensor_3\": np.float32,\n",
    "#     \"GasSensor_4\": np.float32,\n",
    "#     \"GasSensor_5\": np.float32,\n",
    "#     \"GasSensor_6\": np.float32,\n",
    "#     \"GasSensor_7\": np.float32,\n",
    "#     \"GasSensor_8\": np.float32,\n",
    "#     \"GasSensor_9\": np.float32,\n",
    "#     \"GasSensor_10\": np.float32,\n",
    "#     \"GasSensor_11\": np.float32,\n",
    "# \n",
    "#     \"Temperature\": np.float32,  # Quantitative (°C)\n",
    "#     \"Pressure\": np.float32,    # Quantitative (Pa)\n",
    "#     \"Humidity\": np.uint8,      # Quantitative (%RH)\n",
    "#     \"Battery_Charge\": np.uint8,  # Quantitative (%)\n",
    "#     \"Net_Current\": np.float32,  # Quantitative (A)\n",
    "#     \"Tension\": np.float32,     # Quantitative (V)\n",
    "#     \"Battery_Temp\": np.float32, # Quantitative (°C)\n",
    "# \n",
    "#     # Particulate matter (µg/m³)\n",
    "#     \"PM1.0\": np.float32,\n",
    "#     \"PM2.5\": np.float32,\n",
    "#     \"PM4.0\": np.float32,\n",
    "#     \"PM10.0\": np.float32,\n",
    "# \n",
    "#     # Particulate matter (1/cm³)\n",
    "#     \"PM1.0_cm3\": np.float32,\n",
    "#     \"PM2.5_cm3\": np.float32,\n",
    "#     \"PM4.0_cm3\": np.float32,\n",
    "#     \"PM10.0_cm3\": np.float32,\n",
    "# \n",
    "#     \"PM_Typ_Size\": np.float32,  # Quantitative (µm)\n",
    "#     \"CO2\": np.float32,           # Quantitative (ppm)\n",
    "# }\n",
    "\n",
    "# Generate random data\n",
    "num_datapoints = 100 \n",
    "\n",
    "# temp = pd.Timestamp(year=2017, month=1, day=1, hour=12, second=0)\n",
    "\n",
    "# add more columns later\n",
    "fake_df = pd.DataFrame(columns=['Temperature', 'Pressure', 'Humidity', 'Battery_Charge', 'Net_Current', 'Tension'])\n",
    "\n",
    "start_time = datetime(2024, 2, 20, 10, 0, 0)  # Adjust start date and time\n",
    "\n",
    "# the idea is to create random data right now. Tighten up the range so it's only dealing with a particular kind of \n",
    "# weather for now. Some combinations are thermodynamically impossible if you arbitrarily choose property values\n",
    "for i in range(num_datapoints):\n",
    "    print('test')\n",
    "    # fake_df['Temperature'] = random.uniform(0, 100) # degrees celsius\n",
    "    # fake_df['Pressure'] = random.uniform(99284.51, 103421) # potential pressure values in earth\n",
    "    # fake_df['Humidity'] = \n",
    "    # fake_df['Battery_Charge'] =\n",
    "    # fake_df['Net_Current'] =\n",
    "    # fake_df['Tension'] = "
   ],
   "metadata": {
    "collapsed": false,
    "ExecuteTime": {
     "end_time": "2024-02-25T09:08:22.412393Z",
     "start_time": "2024-02-25T09:08:22.337060900Z"
    }
   },
   "id": "e4b28ad3a3f16415",
   "execution_count": 9
  },
  {
   "cell_type": "markdown",
   "source": [
    "#### Visualizing data"
   ],
   "metadata": {
    "collapsed": false
   },
   "id": "d9a146f1bd68980d"
  },
  {
   "cell_type": "code",
   "outputs": [],
   "source": [],
   "metadata": {
    "collapsed": false,
    "ExecuteTime": {
     "end_time": "2024-02-25T09:08:27.293589700Z",
     "start_time": "2024-02-25T09:08:27.272503800Z"
    }
   },
   "id": "2513979ae9ef3954",
   "execution_count": 9
  },
  {
   "cell_type": "markdown",
   "source": [
    "### Visualizing data"
   ],
   "metadata": {
    "collapsed": false
   },
   "id": "46f23d1cb6b6433e"
  },
  {
   "cell_type": "code",
   "outputs": [],
   "source": [],
   "metadata": {
    "collapsed": false
   },
   "id": "4ab3f41b239ad45f"
  },
  {
   "cell_type": "markdown",
   "source": [],
   "metadata": {
    "collapsed": false
   },
   "id": "ae94ef10c61a688"
  }
 ],
 "metadata": {
  "kernelspec": {
   "display_name": "Python 3",
   "language": "python",
   "name": "python3"
  },
  "language_info": {
   "codemirror_mode": {
    "name": "ipython",
    "version": 2
   },
   "file_extension": ".py",
   "mimetype": "text/x-python",
   "name": "python",
   "nbconvert_exporter": "python",
   "pygments_lexer": "ipython2",
   "version": "2.7.6"
  }
 },
 "nbformat": 4,
 "nbformat_minor": 5
}
